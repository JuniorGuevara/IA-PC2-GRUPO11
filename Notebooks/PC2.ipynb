{
  "nbformat": 4,
  "nbformat_minor": 0,
  "metadata": {
    "colab": {
      "name": "PC2.ipynb",
      "provenance": [],
      "collapsed_sections": []
    },
    "kernelspec": {
      "name": "python3",
      "display_name": "Python 3"
    },
    "language_info": {
      "name": "python"
    }
  },
  "cells": [
    {
      "cell_type": "markdown",
      "metadata": {
        "id": "7Yeo7Hk3081S"
      },
      "source": [
        "# Práctica Calificada 2\n",
        "## Predicción de tarifas de taxis\n",
        "El objetivo de esta evaluación es construir un modelo de aprendizaje que sea capaz de predecir la tarifa que cobra un taxi de acuerdo a cierta información de entrada.\n"
      ]
    },
    {
      "cell_type": "code",
      "metadata": {
        "id": "mvQ16Ps7DuVw",
        "colab": {
          "base_uri": "https://localhost:8080/"
        },
        "outputId": "1883c4c5-8e53-44a2-9d50-160bf5ca02be"
      },
      "source": [
        "import pandas as pd\n",
        "import numpy as np\n",
        "print(\"Pandas = \", pd.__version__)\n",
        "print(\"Numpy = \", np.__version__)"
      ],
      "execution_count": 50,
      "outputs": [
        {
          "output_type": "stream",
          "text": [
            "Pandas =  1.1.5\n",
            "Numpy =  1.19.5\n"
          ],
          "name": "stdout"
        }
      ]
    },
    {
      "cell_type": "markdown",
      "metadata": {
        "id": "rvC1iSvx1n3u"
      },
      "source": [
        "# Obteniendo del conjunto de datos"
      ]
    },
    {
      "cell_type": "code",
      "metadata": {
        "colab": {
          "base_uri": "https://localhost:8080/",
          "height": 309
        },
        "id": "LfuD0PVhAhDN",
        "outputId": "6cf7d30b-0278-484c-d9c3-5a7c04eaa6f7"
      },
      "source": [
        "pd.read_csv(\"./train.csv\",nrows=5).head()"
      ],
      "execution_count": 51,
      "outputs": [
        {
          "output_type": "execute_result",
          "data": {
            "text/html": [
              "<div>\n",
              "<style scoped>\n",
              "    .dataframe tbody tr th:only-of-type {\n",
              "        vertical-align: middle;\n",
              "    }\n",
              "\n",
              "    .dataframe tbody tr th {\n",
              "        vertical-align: top;\n",
              "    }\n",
              "\n",
              "    .dataframe thead th {\n",
              "        text-align: right;\n",
              "    }\n",
              "</style>\n",
              "<table border=\"1\" class=\"dataframe\">\n",
              "  <thead>\n",
              "    <tr style=\"text-align: right;\">\n",
              "      <th></th>\n",
              "      <th>key</th>\n",
              "      <th>fare_amount</th>\n",
              "      <th>pickup_datetime</th>\n",
              "      <th>pickup_longitude</th>\n",
              "      <th>pickup_latitude</th>\n",
              "      <th>dropoff_longitude</th>\n",
              "      <th>dropoff_latitude</th>\n",
              "      <th>passenger_count</th>\n",
              "    </tr>\n",
              "  </thead>\n",
              "  <tbody>\n",
              "    <tr>\n",
              "      <th>0</th>\n",
              "      <td>2009-06-15 17:26:21.0000001</td>\n",
              "      <td>4.5</td>\n",
              "      <td>2009-06-15 17:26:21 UTC</td>\n",
              "      <td>-73.844311</td>\n",
              "      <td>40.721319</td>\n",
              "      <td>-73.841610</td>\n",
              "      <td>40.712278</td>\n",
              "      <td>1</td>\n",
              "    </tr>\n",
              "    <tr>\n",
              "      <th>1</th>\n",
              "      <td>2010-01-05 16:52:16.0000002</td>\n",
              "      <td>16.9</td>\n",
              "      <td>2010-01-05 16:52:16 UTC</td>\n",
              "      <td>-74.016048</td>\n",
              "      <td>40.711303</td>\n",
              "      <td>-73.979268</td>\n",
              "      <td>40.782004</td>\n",
              "      <td>1</td>\n",
              "    </tr>\n",
              "    <tr>\n",
              "      <th>2</th>\n",
              "      <td>2011-08-18 00:35:00.00000049</td>\n",
              "      <td>5.7</td>\n",
              "      <td>2011-08-18 00:35:00 UTC</td>\n",
              "      <td>-73.982738</td>\n",
              "      <td>40.761270</td>\n",
              "      <td>-73.991242</td>\n",
              "      <td>40.750562</td>\n",
              "      <td>2</td>\n",
              "    </tr>\n",
              "    <tr>\n",
              "      <th>3</th>\n",
              "      <td>2012-04-21 04:30:42.0000001</td>\n",
              "      <td>7.7</td>\n",
              "      <td>2012-04-21 04:30:42 UTC</td>\n",
              "      <td>-73.987130</td>\n",
              "      <td>40.733143</td>\n",
              "      <td>-73.991567</td>\n",
              "      <td>40.758092</td>\n",
              "      <td>1</td>\n",
              "    </tr>\n",
              "    <tr>\n",
              "      <th>4</th>\n",
              "      <td>2010-03-09 07:51:00.000000135</td>\n",
              "      <td>5.3</td>\n",
              "      <td>2010-03-09 07:51:00 UTC</td>\n",
              "      <td>-73.968095</td>\n",
              "      <td>40.768008</td>\n",
              "      <td>-73.956655</td>\n",
              "      <td>40.783762</td>\n",
              "      <td>1</td>\n",
              "    </tr>\n",
              "  </tbody>\n",
              "</table>\n",
              "</div>"
            ],
            "text/plain": [
              "                             key  ...  passenger_count\n",
              "0    2009-06-15 17:26:21.0000001  ...                1\n",
              "1    2010-01-05 16:52:16.0000002  ...                1\n",
              "2   2011-08-18 00:35:00.00000049  ...                2\n",
              "3    2012-04-21 04:30:42.0000001  ...                1\n",
              "4  2010-03-09 07:51:00.000000135  ...                1\n",
              "\n",
              "[5 rows x 8 columns]"
            ]
          },
          "metadata": {
            "tags": []
          },
          "execution_count": 51
        }
      ]
    },
    {
      "cell_type": "markdown",
      "metadata": {
        "id": "S9AFyfAX13Hx"
      },
      "source": [
        "Tenemos las siguientes columnas\n",
        "\n",
        "*   key: cadena que identifica de manera única a cada registro.\n",
        "*   fare_amount: número real indicando el costo del taxi. Esta es la variable a predecir.\n",
        "*   pickup_datetime: timestamp indicando cuando el viaje a empezado.\n",
        "*   pickup_longitude: número real indicando la ubicación en longitud en donde el viaje empezó.\n",
        "*   pickup_latitude: número real indicando la ubicación en latitud en donde el viaje empezó.\n",
        "*   dropoff_longitude: número real indicando la ubicación en longitud en donde el viaje terminó.\n",
        "*   dropoff_latitude: número real indicando la ubicación en latitud en donde el viaje terminó.\n",
        "*   passenger_count: número entero indicando el número de pasajeros en el servicio de taxi.\n",
        "\n",
        "*La columna key no es un caracterísitica que nos interese.*"
      ]
    },
    {
      "cell_type": "markdown",
      "metadata": {
        "id": "tS1410_8BJF1"
      },
      "source": [
        "**Cargamos solo las columnas que nos interesan**"
      ]
    },
    {
      "cell_type": "code",
      "metadata": {
        "id": "tnEAUGRCBNcB"
      },
      "source": [
        "columns = [\"fare_amount\",\"pickup_datetime\",\"pickup_longitude\",\"pickup_latitude\",\"dropoff_longitude\",\"dropoff_latitude\",\"passenger_count\"]"
      ],
      "execution_count": 52,
      "outputs": []
    },
    {
      "cell_type": "code",
      "metadata": {
        "id": "j4evtdBuBQiH"
      },
      "source": [
        "df_train = pd.read_csv(\"./train.csv\",nrows=30000000,usecols=columns)"
      ],
      "execution_count": 53,
      "outputs": []
    },
    {
      "cell_type": "markdown",
      "metadata": {
        "id": "0MOA86i_BUk9"
      },
      "source": [
        "**Uso total de la memoria al inicio**"
      ]
    },
    {
      "cell_type": "code",
      "metadata": {
        "colab": {
          "base_uri": "https://localhost:8080/"
        },
        "id": "NjQXgOkxBXeh",
        "outputId": "015b84a1-c6aa-4605-a5d7-2df011ec1de6"
      },
      "source": [
        "memoria_inicial = df_train.memory_usage(deep=True).sum()\n",
        "print(f\"{memoria_inicial/1e9:0.2f}GB\")"
      ],
      "execution_count": 54,
      "outputs": [
        {
          "output_type": "stream",
          "text": [
            "3.84GB\n"
          ],
          "name": "stdout"
        }
      ]
    },
    {
      "cell_type": "markdown",
      "metadata": {
        "id": "v9IBA0P4BcLA"
      },
      "source": [
        "**Analizando el tipo de las variables**"
      ]
    },
    {
      "cell_type": "code",
      "metadata": {
        "colab": {
          "base_uri": "https://localhost:8080/"
        },
        "id": "yidgdS36Beq5",
        "outputId": "d3bec8d9-400c-4a2b-f084-62b4b0d7e9bb"
      },
      "source": [
        "df_train.dtypes"
      ],
      "execution_count": 55,
      "outputs": [
        {
          "output_type": "execute_result",
          "data": {
            "text/plain": [
              "fare_amount          float64\n",
              "pickup_datetime       object\n",
              "pickup_longitude     float64\n",
              "pickup_latitude      float64\n",
              "dropoff_longitude    float64\n",
              "dropoff_latitude     float64\n",
              "passenger_count        int64\n",
              "dtype: object"
            ]
          },
          "metadata": {
            "tags": []
          },
          "execution_count": 55
        }
      ]
    },
    {
      "cell_type": "markdown",
      "metadata": {
        "id": "et_m-4h9BlXj"
      },
      "source": [
        "Uso de memoria de cada columna en bytes."
      ]
    },
    {
      "cell_type": "code",
      "metadata": {
        "colab": {
          "base_uri": "https://localhost:8080/"
        },
        "id": "cee7tH8rBodE",
        "outputId": "375ff75a-97dd-478a-dd6a-8768a86acdbf"
      },
      "source": [
        "df_train.memory_usage(deep=True)"
      ],
      "execution_count": 56,
      "outputs": [
        {
          "output_type": "execute_result",
          "data": {
            "text/plain": [
              "Index                       128\n",
              "fare_amount           240000000\n",
              "pickup_datetime      2400000000\n",
              "pickup_longitude      240000000\n",
              "pickup_latitude       240000000\n",
              "dropoff_longitude     240000000\n",
              "dropoff_latitude      240000000\n",
              "passenger_count       240000000\n",
              "dtype: int64"
            ]
          },
          "metadata": {
            "tags": []
          },
          "execution_count": 56
        }
      ]
    },
    {
      "cell_type": "markdown",
      "metadata": {
        "id": "M0AKhArcBq0k"
      },
      "source": [
        "**Utilizando tipos de datos eficientes.**"
      ]
    },
    {
      "cell_type": "code",
      "metadata": {
        "id": "EfXpvOPYBv2j"
      },
      "source": [
        "df_train[\"passenger_count\"] = pd.to_numeric(df_train[\"passenger_count\"], downcast=\"unsigned\")\n",
        "df_train[\"fare_amount\"] =  pd.to_numeric(df_train[\"fare_amount\"], downcast=\"float\")\n",
        "df_train[[\"pickup_longitude\",\"pickup_latitude\"]] = df_train[[\"pickup_longitude\",\"pickup_latitude\"]].apply(pd.to_numeric, downcast=\"float\")\n",
        "df_train[[\"dropoff_longitude\",\"dropoff_latitude\"]] = df_train[[\"dropoff_longitude\",\"dropoff_latitude\"]].apply(pd.to_numeric, downcast=\"float\")"
      ],
      "execution_count": 57,
      "outputs": []
    },
    {
      "cell_type": "code",
      "metadata": {
        "colab": {
          "base_uri": "https://localhost:8080/"
        },
        "id": "kDP-mObVBzvy",
        "outputId": "27d78dec-844b-4b89-d85a-233765f754ad"
      },
      "source": [
        "df_train.dtypes"
      ],
      "execution_count": 58,
      "outputs": [
        {
          "output_type": "execute_result",
          "data": {
            "text/plain": [
              "fare_amount          float32\n",
              "pickup_datetime       object\n",
              "pickup_longitude     float32\n",
              "pickup_latitude      float32\n",
              "dropoff_longitude    float32\n",
              "dropoff_latitude     float32\n",
              "passenger_count        uint8\n",
              "dtype: object"
            ]
          },
          "metadata": {
            "tags": []
          },
          "execution_count": 58
        }
      ]
    },
    {
      "cell_type": "markdown",
      "metadata": {
        "id": "ewbD0ZBtB2pd"
      },
      "source": [
        "Uso de memoria de cada columna en bytes luego de utilizar tipos de datos más eficientes."
      ]
    },
    {
      "cell_type": "code",
      "metadata": {
        "colab": {
          "base_uri": "https://localhost:8080/"
        },
        "id": "OTc0PnPDB5fI",
        "outputId": "3c5afe2a-dc5e-424c-eeb1-9a61546addc4"
      },
      "source": [
        "df_train.memory_usage(deep=True)"
      ],
      "execution_count": 59,
      "outputs": [
        {
          "output_type": "execute_result",
          "data": {
            "text/plain": [
              "Index                       128\n",
              "fare_amount           120000000\n",
              "pickup_datetime      2400000000\n",
              "pickup_longitude      120000000\n",
              "pickup_latitude       120000000\n",
              "dropoff_longitude     120000000\n",
              "dropoff_latitude      120000000\n",
              "passenger_count        30000000\n",
              "dtype: int64"
            ]
          },
          "metadata": {
            "tags": []
          },
          "execution_count": 59
        }
      ]
    },
    {
      "cell_type": "markdown",
      "metadata": {
        "id": "-VJBP0ggCdMF"
      },
      "source": [
        "Uso de memoria total luego de utilizar tipos de datos más eficientes."
      ]
    },
    {
      "cell_type": "code",
      "metadata": {
        "colab": {
          "base_uri": "https://localhost:8080/"
        },
        "id": "wCX6J7RvChJx",
        "outputId": "1efd035e-0d26-4216-cfee-435b92e4953a"
      },
      "source": [
        "memoria_final = df_train.memory_usage(deep=True).sum()\n",
        "print(f\"{memoria_final/1e9:0.2f}GB\")"
      ],
      "execution_count": 60,
      "outputs": [
        {
          "output_type": "stream",
          "text": [
            "3.03GB\n"
          ],
          "name": "stdout"
        }
      ]
    },
    {
      "cell_type": "markdown",
      "metadata": {
        "id": "udxfNcMKClwu"
      },
      "source": [
        "**Reducción de Memoria**"
      ]
    },
    {
      "cell_type": "code",
      "metadata": {
        "colab": {
          "base_uri": "https://localhost:8080/"
        },
        "id": "mzO9uM7ACn5X",
        "outputId": "5ee33b73-7b9c-468c-ff45-4edabfd1d4d8"
      },
      "source": [
        "reduccion = (memoria_inicial-memoria_final)/memoria_inicial*100\n",
        "print(f\"Reducimos el uso de memoria en {reduccion:0.2f}%\")"
      ],
      "execution_count": 61,
      "outputs": [
        {
          "output_type": "stream",
          "text": [
            "Reducimos el uso de memoria en 21.09%\n"
          ],
          "name": "stdout"
        }
      ]
    },
    {
      "cell_type": "code",
      "metadata": {
        "id": "eZ0F4r5THY0H",
        "colab": {
          "base_uri": "https://localhost:8080/",
          "height": 297
        },
        "outputId": "cc5a35d7-0293-4f3b-e61d-7fe1fc50b51c"
      },
      "source": [
        "df_train.describe()"
      ],
      "execution_count": 62,
      "outputs": [
        {
          "output_type": "execute_result",
          "data": {
            "text/html": [
              "<div>\n",
              "<style scoped>\n",
              "    .dataframe tbody tr th:only-of-type {\n",
              "        vertical-align: middle;\n",
              "    }\n",
              "\n",
              "    .dataframe tbody tr th {\n",
              "        vertical-align: top;\n",
              "    }\n",
              "\n",
              "    .dataframe thead th {\n",
              "        text-align: right;\n",
              "    }\n",
              "</style>\n",
              "<table border=\"1\" class=\"dataframe\">\n",
              "  <thead>\n",
              "    <tr style=\"text-align: right;\">\n",
              "      <th></th>\n",
              "      <th>fare_amount</th>\n",
              "      <th>pickup_longitude</th>\n",
              "      <th>pickup_latitude</th>\n",
              "      <th>dropoff_longitude</th>\n",
              "      <th>dropoff_latitude</th>\n",
              "      <th>passenger_count</th>\n",
              "    </tr>\n",
              "  </thead>\n",
              "  <tbody>\n",
              "    <tr>\n",
              "      <th>count</th>\n",
              "      <td>3.000000e+07</td>\n",
              "      <td>3.000000e+07</td>\n",
              "      <td>3.000000e+07</td>\n",
              "      <td>2.999979e+07</td>\n",
              "      <td>2.999979e+07</td>\n",
              "      <td>3.000000e+07</td>\n",
              "    </tr>\n",
              "    <tr>\n",
              "      <th>mean</th>\n",
              "      <td>1.003266e+01</td>\n",
              "      <td>-7.158462e+01</td>\n",
              "      <td>3.579142e+01</td>\n",
              "      <td>-7.158498e+01</td>\n",
              "      <td>3.579164e+01</td>\n",
              "      <td>1.685492e+00</td>\n",
              "    </tr>\n",
              "    <tr>\n",
              "      <th>std</th>\n",
              "      <td>1.458088e+01</td>\n",
              "      <td>1.276127e+01</td>\n",
              "      <td>9.461420e+00</td>\n",
              "      <td>1.262594e+01</td>\n",
              "      <td>9.406590e+00</td>\n",
              "      <td>1.323729e+00</td>\n",
              "    </tr>\n",
              "    <tr>\n",
              "      <th>min</th>\n",
              "      <td>-3.000000e+02</td>\n",
              "      <td>-3.439245e+03</td>\n",
              "      <td>-3.492264e+03</td>\n",
              "      <td>-3.442025e+03</td>\n",
              "      <td>-3.547887e+03</td>\n",
              "      <td>0.000000e+00</td>\n",
              "    </tr>\n",
              "    <tr>\n",
              "      <th>25%</th>\n",
              "      <td>6.000000e+00</td>\n",
              "      <td>-7.399207e+01</td>\n",
              "      <td>4.073492e+01</td>\n",
              "      <td>-7.399140e+01</td>\n",
              "      <td>4.073403e+01</td>\n",
              "      <td>1.000000e+00</td>\n",
              "    </tr>\n",
              "    <tr>\n",
              "      <th>50%</th>\n",
              "      <td>8.500000e+00</td>\n",
              "      <td>-7.398180e+01</td>\n",
              "      <td>4.075264e+01</td>\n",
              "      <td>-7.398016e+01</td>\n",
              "      <td>4.075315e+01</td>\n",
              "      <td>1.000000e+00</td>\n",
              "    </tr>\n",
              "    <tr>\n",
              "      <th>75%</th>\n",
              "      <td>1.250000e+01</td>\n",
              "      <td>-7.396709e+01</td>\n",
              "      <td>4.076712e+01</td>\n",
              "      <td>-7.396368e+01</td>\n",
              "      <td>4.076809e+01</td>\n",
              "      <td>2.000000e+00</td>\n",
              "    </tr>\n",
              "    <tr>\n",
              "      <th>max</th>\n",
              "      <td>6.155086e+04</td>\n",
              "      <td>3.457626e+03</td>\n",
              "      <td>3.406008e+03</td>\n",
              "      <td>3.457622e+03</td>\n",
              "      <td>3.407392e+03</td>\n",
              "      <td>2.080000e+02</td>\n",
              "    </tr>\n",
              "  </tbody>\n",
              "</table>\n",
              "</div>"
            ],
            "text/plain": [
              "        fare_amount  pickup_longitude  ...  dropoff_latitude  passenger_count\n",
              "count  3.000000e+07      3.000000e+07  ...      2.999979e+07     3.000000e+07\n",
              "mean   1.003266e+01     -7.158462e+01  ...      3.579164e+01     1.685492e+00\n",
              "std    1.458088e+01      1.276127e+01  ...      9.406590e+00     1.323729e+00\n",
              "min   -3.000000e+02     -3.439245e+03  ...     -3.547887e+03     0.000000e+00\n",
              "25%    6.000000e+00     -7.399207e+01  ...      4.073403e+01     1.000000e+00\n",
              "50%    8.500000e+00     -7.398180e+01  ...      4.075315e+01     1.000000e+00\n",
              "75%    1.250000e+01     -7.396709e+01  ...      4.076809e+01     2.000000e+00\n",
              "max    6.155086e+04      3.457626e+03  ...      3.407392e+03     2.080000e+02\n",
              "\n",
              "[8 rows x 6 columns]"
            ]
          },
          "metadata": {
            "tags": []
          },
          "execution_count": 62
        }
      ]
    },
    {
      "cell_type": "code",
      "metadata": {
        "id": "sFus-uCHFgYa",
        "colab": {
          "base_uri": "https://localhost:8080/"
        },
        "outputId": "85b83a68-c521-4ae2-bd30-cf42593a235c"
      },
      "source": [
        "df_train.info(verbose=True, null_counts=True)"
      ],
      "execution_count": 63,
      "outputs": [
        {
          "output_type": "stream",
          "text": [
            "<class 'pandas.core.frame.DataFrame'>\n",
            "RangeIndex: 30000000 entries, 0 to 29999999\n",
            "Data columns (total 7 columns):\n",
            " #   Column             Non-Null Count     Dtype  \n",
            "---  ------             --------------     -----  \n",
            " 0   fare_amount        30000000 non-null  float32\n",
            " 1   pickup_datetime    30000000 non-null  object \n",
            " 2   pickup_longitude   30000000 non-null  float32\n",
            " 3   pickup_latitude    30000000 non-null  float32\n",
            " 4   dropoff_longitude  29999794 non-null  float32\n",
            " 5   dropoff_latitude   29999794 non-null  float32\n",
            " 6   passenger_count    30000000 non-null  uint8  \n",
            "dtypes: float32(5), object(1), uint8(1)\n",
            "memory usage: 829.7+ MB\n"
          ],
          "name": "stdout"
        }
      ]
    },
    {
      "cell_type": "markdown",
      "metadata": {
        "id": "g7gvXTMSCdRM"
      },
      "source": [
        "De lo anterior se puede observar que tenemos valores nulos, entonces verificamos cuando valores nulos hay por cada columna:"
      ]
    },
    {
      "cell_type": "code",
      "metadata": {
        "id": "6YL3J8BeBPyU",
        "colab": {
          "base_uri": "https://localhost:8080/"
        },
        "outputId": "b2f4d8f3-30ac-4689-9aa9-e21fff5a0757"
      },
      "source": [
        "print(df_train.isnull().sum())"
      ],
      "execution_count": 64,
      "outputs": [
        {
          "output_type": "stream",
          "text": [
            "fare_amount            0\n",
            "pickup_datetime        0\n",
            "pickup_longitude       0\n",
            "pickup_latitude        0\n",
            "dropoff_longitude    206\n",
            "dropoff_latitude     206\n",
            "passenger_count        0\n",
            "dtype: int64\n"
          ],
          "name": "stdout"
        }
      ]
    },
    {
      "cell_type": "code",
      "metadata": {
        "id": "_CQ2ReKLp5bo"
      },
      "source": [
        "# Eliminando\n",
        "df_train = df_train.dropna(how='any', axis=0)"
      ],
      "execution_count": 65,
      "outputs": []
    },
    {
      "cell_type": "markdown",
      "metadata": {
        "id": "CNaNj0t15SuD"
      },
      "source": [
        "# Analizando Fare_amount"
      ]
    },
    {
      "cell_type": "code",
      "metadata": {
        "id": "27JgLucrEyge",
        "colab": {
          "base_uri": "https://localhost:8080/",
          "height": 297
        },
        "outputId": "afcbef01-1972-4c0d-b8ce-276f43478780"
      },
      "source": [
        "df_train[['fare_amount']].describe()"
      ],
      "execution_count": 66,
      "outputs": [
        {
          "output_type": "execute_result",
          "data": {
            "text/html": [
              "<div>\n",
              "<style scoped>\n",
              "    .dataframe tbody tr th:only-of-type {\n",
              "        vertical-align: middle;\n",
              "    }\n",
              "\n",
              "    .dataframe tbody tr th {\n",
              "        vertical-align: top;\n",
              "    }\n",
              "\n",
              "    .dataframe thead th {\n",
              "        text-align: right;\n",
              "    }\n",
              "</style>\n",
              "<table border=\"1\" class=\"dataframe\">\n",
              "  <thead>\n",
              "    <tr style=\"text-align: right;\">\n",
              "      <th></th>\n",
              "      <th>fare_amount</th>\n",
              "    </tr>\n",
              "  </thead>\n",
              "  <tbody>\n",
              "    <tr>\n",
              "      <th>count</th>\n",
              "      <td>2.999979e+07</td>\n",
              "    </tr>\n",
              "    <tr>\n",
              "      <th>mean</th>\n",
              "      <td>1.003266e+01</td>\n",
              "    </tr>\n",
              "    <tr>\n",
              "      <th>std</th>\n",
              "      <td>1.458088e+01</td>\n",
              "    </tr>\n",
              "    <tr>\n",
              "      <th>min</th>\n",
              "      <td>-3.000000e+02</td>\n",
              "    </tr>\n",
              "    <tr>\n",
              "      <th>25%</th>\n",
              "      <td>6.000000e+00</td>\n",
              "    </tr>\n",
              "    <tr>\n",
              "      <th>50%</th>\n",
              "      <td>8.500000e+00</td>\n",
              "    </tr>\n",
              "    <tr>\n",
              "      <th>75%</th>\n",
              "      <td>1.250000e+01</td>\n",
              "    </tr>\n",
              "    <tr>\n",
              "      <th>max</th>\n",
              "      <td>6.155086e+04</td>\n",
              "    </tr>\n",
              "  </tbody>\n",
              "</table>\n",
              "</div>"
            ],
            "text/plain": [
              "        fare_amount\n",
              "count  2.999979e+07\n",
              "mean   1.003266e+01\n",
              "std    1.458088e+01\n",
              "min   -3.000000e+02\n",
              "25%    6.000000e+00\n",
              "50%    8.500000e+00\n",
              "75%    1.250000e+01\n",
              "max    6.155086e+04"
            ]
          },
          "metadata": {
            "tags": []
          },
          "execution_count": 66
        }
      ]
    },
    {
      "cell_type": "markdown",
      "metadata": {
        "id": "mKmvrd8SzT9B"
      },
      "source": [
        "Obervamos que el el minimo del monto de tarifa es negativo, veamos cuantos montos de tarifa menores o iguales a cero, tenemos: "
      ]
    },
    {
      "cell_type": "code",
      "metadata": {
        "id": "qnQebgfc1zA6",
        "colab": {
          "base_uri": "https://localhost:8080/"
        },
        "outputId": "4004aecd-9111-4abb-f112-f1ef97689895"
      },
      "source": [
        "len(df_train[df_train['fare_amount'] <= 0].index)"
      ],
      "execution_count": 67,
      "outputs": [
        {
          "output_type": "execute_result",
          "data": {
            "text/plain": [
              "2063"
            ]
          },
          "metadata": {
            "tags": []
          },
          "execution_count": 67
        }
      ]
    },
    {
      "cell_type": "code",
      "metadata": {
        "id": "VrSBkJwH1RYx",
        "colab": {
          "base_uri": "https://localhost:8080/",
          "height": 609
        },
        "outputId": "854d97fa-b8c5-445e-e518-11138cfddb42"
      },
      "source": [
        "df_train[df_train['fare_amount'] <= 0]"
      ],
      "execution_count": 68,
      "outputs": [
        {
          "output_type": "execute_result",
          "data": {
            "text/html": [
              "<div>\n",
              "<style scoped>\n",
              "    .dataframe tbody tr th:only-of-type {\n",
              "        vertical-align: middle;\n",
              "    }\n",
              "\n",
              "    .dataframe tbody tr th {\n",
              "        vertical-align: top;\n",
              "    }\n",
              "\n",
              "    .dataframe thead th {\n",
              "        text-align: right;\n",
              "    }\n",
              "</style>\n",
              "<table border=\"1\" class=\"dataframe\">\n",
              "  <thead>\n",
              "    <tr style=\"text-align: right;\">\n",
              "      <th></th>\n",
              "      <th>fare_amount</th>\n",
              "      <th>pickup_datetime</th>\n",
              "      <th>pickup_longitude</th>\n",
              "      <th>pickup_latitude</th>\n",
              "      <th>dropoff_longitude</th>\n",
              "      <th>dropoff_latitude</th>\n",
              "      <th>passenger_count</th>\n",
              "    </tr>\n",
              "  </thead>\n",
              "  <tbody>\n",
              "    <tr>\n",
              "      <th>2039</th>\n",
              "      <td>-2.9</td>\n",
              "      <td>2010-03-09 23:37:10 UTC</td>\n",
              "      <td>-73.789452</td>\n",
              "      <td>40.643497</td>\n",
              "      <td>-73.788666</td>\n",
              "      <td>40.641953</td>\n",
              "      <td>1</td>\n",
              "    </tr>\n",
              "    <tr>\n",
              "      <th>2486</th>\n",
              "      <td>-2.5</td>\n",
              "      <td>2015-03-22 05:14:27 UTC</td>\n",
              "      <td>-74.000031</td>\n",
              "      <td>40.720631</td>\n",
              "      <td>-73.999809</td>\n",
              "      <td>40.720539</td>\n",
              "      <td>1</td>\n",
              "    </tr>\n",
              "    <tr>\n",
              "      <th>10002</th>\n",
              "      <td>0.0</td>\n",
              "      <td>2010-02-15 14:26:01 UTC</td>\n",
              "      <td>-73.987114</td>\n",
              "      <td>40.738808</td>\n",
              "      <td>-74.005913</td>\n",
              "      <td>40.713959</td>\n",
              "      <td>1</td>\n",
              "    </tr>\n",
              "    <tr>\n",
              "      <th>13032</th>\n",
              "      <td>-3.0</td>\n",
              "      <td>2013-08-30 08:57:10 UTC</td>\n",
              "      <td>-73.995064</td>\n",
              "      <td>40.740753</td>\n",
              "      <td>-73.995888</td>\n",
              "      <td>40.741356</td>\n",
              "      <td>4</td>\n",
              "    </tr>\n",
              "    <tr>\n",
              "      <th>27891</th>\n",
              "      <td>0.0</td>\n",
              "      <td>2015-05-15 21:40:28 UTC</td>\n",
              "      <td>-74.077927</td>\n",
              "      <td>40.805714</td>\n",
              "      <td>-74.077919</td>\n",
              "      <td>40.805721</td>\n",
              "      <td>1</td>\n",
              "    </tr>\n",
              "    <tr>\n",
              "      <th>...</th>\n",
              "      <td>...</td>\n",
              "      <td>...</td>\n",
              "      <td>...</td>\n",
              "      <td>...</td>\n",
              "      <td>...</td>\n",
              "      <td>...</td>\n",
              "      <td>...</td>\n",
              "    </tr>\n",
              "    <tr>\n",
              "      <th>29920970</th>\n",
              "      <td>-2.9</td>\n",
              "      <td>2010-03-26 20:39:10 UTC</td>\n",
              "      <td>-73.983231</td>\n",
              "      <td>40.777557</td>\n",
              "      <td>-73.982231</td>\n",
              "      <td>40.776123</td>\n",
              "      <td>4</td>\n",
              "    </tr>\n",
              "    <tr>\n",
              "      <th>29926640</th>\n",
              "      <td>0.0</td>\n",
              "      <td>2015-03-15 13:25:28 UTC</td>\n",
              "      <td>-73.973946</td>\n",
              "      <td>40.801060</td>\n",
              "      <td>0.000000</td>\n",
              "      <td>0.000000</td>\n",
              "      <td>1</td>\n",
              "    </tr>\n",
              "    <tr>\n",
              "      <th>29956234</th>\n",
              "      <td>-4.1</td>\n",
              "      <td>2010-02-24 04:40:10 UTC</td>\n",
              "      <td>-74.005692</td>\n",
              "      <td>40.726345</td>\n",
              "      <td>-74.006035</td>\n",
              "      <td>40.725853</td>\n",
              "      <td>4</td>\n",
              "    </tr>\n",
              "    <tr>\n",
              "      <th>29964098</th>\n",
              "      <td>-52.0</td>\n",
              "      <td>2015-01-04 12:50:33 UTC</td>\n",
              "      <td>-73.988319</td>\n",
              "      <td>40.727798</td>\n",
              "      <td>-73.991074</td>\n",
              "      <td>40.723991</td>\n",
              "      <td>1</td>\n",
              "    </tr>\n",
              "    <tr>\n",
              "      <th>29997986</th>\n",
              "      <td>0.0</td>\n",
              "      <td>2015-03-15 03:34:06 UTC</td>\n",
              "      <td>-74.001656</td>\n",
              "      <td>40.735748</td>\n",
              "      <td>-74.047775</td>\n",
              "      <td>40.717892</td>\n",
              "      <td>1</td>\n",
              "    </tr>\n",
              "  </tbody>\n",
              "</table>\n",
              "<p>2063 rows × 7 columns</p>\n",
              "</div>"
            ],
            "text/plain": [
              "          fare_amount  ... passenger_count\n",
              "2039             -2.9  ...               1\n",
              "2486             -2.5  ...               1\n",
              "10002             0.0  ...               1\n",
              "13032            -3.0  ...               4\n",
              "27891             0.0  ...               1\n",
              "...               ...  ...             ...\n",
              "29920970         -2.9  ...               4\n",
              "29926640          0.0  ...               1\n",
              "29956234         -4.1  ...               4\n",
              "29964098        -52.0  ...               1\n",
              "29997986          0.0  ...               1\n",
              "\n",
              "[2063 rows x 7 columns]"
            ]
          },
          "metadata": {
            "tags": []
          },
          "execution_count": 68
        }
      ]
    },
    {
      "cell_type": "markdown",
      "metadata": {
        "id": "GZXnL83oziiN"
      },
      "source": [
        "Solo queremos los datos donde el monto de la tarifa sea mayor que cero:\n"
      ]
    },
    {
      "cell_type": "code",
      "metadata": {
        "id": "LYHMHsBg3yq4"
      },
      "source": [
        "df_train = df_train[df_train['fare_amount'] > 0]"
      ],
      "execution_count": 69,
      "outputs": []
    },
    {
      "cell_type": "code",
      "metadata": {
        "id": "Df5vBEcdBU7z",
        "colab": {
          "base_uri": "https://localhost:8080/",
          "height": 297
        },
        "outputId": "31e7e2d3-f9eb-4b17-ee54-d4dc7f3ad804"
      },
      "source": [
        "df_train[['fare_amount']].describe()"
      ],
      "execution_count": 70,
      "outputs": [
        {
          "output_type": "execute_result",
          "data": {
            "text/html": [
              "<div>\n",
              "<style scoped>\n",
              "    .dataframe tbody tr th:only-of-type {\n",
              "        vertical-align: middle;\n",
              "    }\n",
              "\n",
              "    .dataframe tbody tr th {\n",
              "        vertical-align: top;\n",
              "    }\n",
              "\n",
              "    .dataframe thead th {\n",
              "        text-align: right;\n",
              "    }\n",
              "</style>\n",
              "<table border=\"1\" class=\"dataframe\">\n",
              "  <thead>\n",
              "    <tr style=\"text-align: right;\">\n",
              "      <th></th>\n",
              "      <th>fare_amount</th>\n",
              "    </tr>\n",
              "  </thead>\n",
              "  <tbody>\n",
              "    <tr>\n",
              "      <th>count</th>\n",
              "      <td>2.999773e+07</td>\n",
              "    </tr>\n",
              "    <tr>\n",
              "      <th>mean</th>\n",
              "      <td>1.003357e+01</td>\n",
              "    </tr>\n",
              "    <tr>\n",
              "      <th>std</th>\n",
              "      <td>1.457983e+01</td>\n",
              "    </tr>\n",
              "    <tr>\n",
              "      <th>min</th>\n",
              "      <td>1.000000e-02</td>\n",
              "    </tr>\n",
              "    <tr>\n",
              "      <th>25%</th>\n",
              "      <td>6.000000e+00</td>\n",
              "    </tr>\n",
              "    <tr>\n",
              "      <th>50%</th>\n",
              "      <td>8.500000e+00</td>\n",
              "    </tr>\n",
              "    <tr>\n",
              "      <th>75%</th>\n",
              "      <td>1.250000e+01</td>\n",
              "    </tr>\n",
              "    <tr>\n",
              "      <th>max</th>\n",
              "      <td>6.155086e+04</td>\n",
              "    </tr>\n",
              "  </tbody>\n",
              "</table>\n",
              "</div>"
            ],
            "text/plain": [
              "        fare_amount\n",
              "count  2.999773e+07\n",
              "mean   1.003357e+01\n",
              "std    1.457983e+01\n",
              "min    1.000000e-02\n",
              "25%    6.000000e+00\n",
              "50%    8.500000e+00\n",
              "75%    1.250000e+01\n",
              "max    6.155086e+04"
            ]
          },
          "metadata": {
            "tags": []
          },
          "execution_count": 70
        }
      ]
    },
    {
      "cell_type": "markdown",
      "metadata": {
        "id": "Dly9f5YHF68s"
      },
      "source": [
        "# Analizando la longitud y latidud"
      ]
    },
    {
      "cell_type": "markdown",
      "metadata": {
        "id": "kyI1jWkMJbuR"
      },
      "source": [
        "El rango de la latidud es de -90 hasta 90 grados, mientras que el grado de la longitud es de -180 hasta los 180 grados.\n",
        "\n"
      ]
    },
    {
      "cell_type": "code",
      "metadata": {
        "id": "7_EBIOGpL6cw"
      },
      "source": [
        "df_train = df_train[(df_train['pickup_longitude'] >= -180) & (df_train['pickup_longitude'] <= 180)]"
      ],
      "execution_count": 71,
      "outputs": []
    },
    {
      "cell_type": "code",
      "metadata": {
        "id": "-_8LgdvsY7NY"
      },
      "source": [
        "df_train = df_train[(df_train['pickup_latitude'] >= -90) & (df_train['pickup_latitude'] <= 90)]"
      ],
      "execution_count": 72,
      "outputs": []
    },
    {
      "cell_type": "code",
      "metadata": {
        "id": "4qh_EPilc494"
      },
      "source": [
        "df_train = df_train[(df_train['dropoff_longitude'] >= -180) & (df_train['dropoff_longitude'] <= 180)]"
      ],
      "execution_count": 73,
      "outputs": []
    },
    {
      "cell_type": "code",
      "metadata": {
        "id": "0kj2FK4ic4zY"
      },
      "source": [
        "df_train = df_train[(df_train['dropoff_latitude'] >= -90) & (df_train['dropoff_latitude'] <= 90)]"
      ],
      "execution_count": 74,
      "outputs": []
    },
    {
      "cell_type": "code",
      "metadata": {
        "id": "kJn8a-nahu9y"
      },
      "source": [
        "def distancia(df):\n",
        "  # Radio medio de la tierra en Km\n",
        "  R = 6371.0\n",
        "  # Conversion a radianes\n",
        "  lt1 = np.radians(df.pickup_latitude)\n",
        "  lg1 = np.radians(df.pickup_longitude)\n",
        "  lt2 = np.radians(df.dropoff_latitude)\n",
        "  lg2 = np.radians(df.dropoff_longitude)\n",
        "  # Defirencia entre latitudes y longitudes\n",
        "  dlt = lt2 - lt1\n",
        "  dlg = lg2 - lg1\n",
        "  # Haversine\n",
        "  hav = np.sin(dlt / 2)**2 + np.cos(lt1) * np.cos(lt2) * np.sin(dlg / 2)**2\n",
        "  c = 2 * np.arctan2(np.sqrt(hav), np.sqrt(1-hav))\n",
        "  d = R * c\n",
        "  return d"
      ],
      "execution_count": 75,
      "outputs": []
    },
    {
      "cell_type": "code",
      "metadata": {
        "id": "UUFay-Jz70dx"
      },
      "source": [
        "df_train['distancia'] = distancia(df_train)"
      ],
      "execution_count": 76,
      "outputs": []
    },
    {
      "cell_type": "code",
      "metadata": {
        "id": "dwF156w6TIC2"
      },
      "source": [
        "df_train = df_train.drop(columns=['pickup_longitude', 'pickup_latitude', 'dropoff_longitude', 'dropoff_latitude'])"
      ],
      "execution_count": 77,
      "outputs": []
    },
    {
      "cell_type": "markdown",
      "metadata": {
        "id": "U5QRLTxYQDUv"
      },
      "source": [
        "Usando un tipo de dato eficiente para distancia.\n"
      ]
    },
    {
      "cell_type": "code",
      "metadata": {
        "id": "5Hxp4WALiVu9"
      },
      "source": [
        "df_train[\"distancia\"] = pd.to_numeric(df_train[\"distancia\"], downcast=\"float\")"
      ],
      "execution_count": 78,
      "outputs": []
    },
    {
      "cell_type": "code",
      "metadata": {
        "id": "y9l-XI3JQI8d",
        "colab": {
          "base_uri": "https://localhost:8080/",
          "height": 297
        },
        "outputId": "228269cf-ea13-43fd-c116-108eec924cfe"
      },
      "source": [
        "df_train[['distancia']].describe()"
      ],
      "execution_count": 79,
      "outputs": [
        {
          "output_type": "execute_result",
          "data": {
            "text/html": [
              "<div>\n",
              "<style scoped>\n",
              "    .dataframe tbody tr th:only-of-type {\n",
              "        vertical-align: middle;\n",
              "    }\n",
              "\n",
              "    .dataframe tbody tr th {\n",
              "        vertical-align: top;\n",
              "    }\n",
              "\n",
              "    .dataframe thead th {\n",
              "        text-align: right;\n",
              "    }\n",
              "</style>\n",
              "<table border=\"1\" class=\"dataframe\">\n",
              "  <thead>\n",
              "    <tr style=\"text-align: right;\">\n",
              "      <th></th>\n",
              "      <th>distancia</th>\n",
              "    </tr>\n",
              "  </thead>\n",
              "  <tbody>\n",
              "    <tr>\n",
              "      <th>count</th>\n",
              "      <td>2.999624e+07</td>\n",
              "    </tr>\n",
              "    <tr>\n",
              "      <th>mean</th>\n",
              "      <td>1.764684e+01</td>\n",
              "    </tr>\n",
              "    <tr>\n",
              "      <th>std</th>\n",
              "      <td>3.677683e+02</td>\n",
              "    </tr>\n",
              "    <tr>\n",
              "      <th>min</th>\n",
              "      <td>0.000000e+00</td>\n",
              "    </tr>\n",
              "    <tr>\n",
              "      <th>25%</th>\n",
              "      <td>1.212327e+00</td>\n",
              "    </tr>\n",
              "    <tr>\n",
              "      <th>50%</th>\n",
              "      <td>2.116486e+00</td>\n",
              "    </tr>\n",
              "    <tr>\n",
              "      <th>75%</th>\n",
              "      <td>3.874127e+00</td>\n",
              "    </tr>\n",
              "    <tr>\n",
              "      <th>max</th>\n",
              "      <td>1.391282e+04</td>\n",
              "    </tr>\n",
              "  </tbody>\n",
              "</table>\n",
              "</div>"
            ],
            "text/plain": [
              "          distancia\n",
              "count  2.999624e+07\n",
              "mean   1.764684e+01\n",
              "std    3.677683e+02\n",
              "min    0.000000e+00\n",
              "25%    1.212327e+00\n",
              "50%    2.116486e+00\n",
              "75%    3.874127e+00\n",
              "max    1.391282e+04"
            ]
          },
          "metadata": {
            "tags": []
          },
          "execution_count": 79
        }
      ]
    },
    {
      "cell_type": "markdown",
      "metadata": {
        "id": "PAdl9g90WRCZ"
      },
      "source": [
        "# Analizando pickup_datetime"
      ]
    },
    {
      "cell_type": "code",
      "metadata": {
        "id": "Y2MsKpNIWmL7",
        "colab": {
          "base_uri": "https://localhost:8080/"
        },
        "outputId": "c6151b67-fa68-402e-9738-28d7df903e7b"
      },
      "source": [
        "df_train['pickup_datetime']"
      ],
      "execution_count": 80,
      "outputs": [
        {
          "output_type": "execute_result",
          "data": {
            "text/plain": [
              "0           2009-06-15 17:26:21 UTC\n",
              "1           2010-01-05 16:52:16 UTC\n",
              "2           2011-08-18 00:35:00 UTC\n",
              "3           2012-04-21 04:30:42 UTC\n",
              "4           2010-03-09 07:51:00 UTC\n",
              "                     ...           \n",
              "29999995    2010-12-31 16:08:33 UTC\n",
              "29999996    2011-02-15 15:53:21 UTC\n",
              "29999997    2011-12-17 20:28:07 UTC\n",
              "29999998    2013-03-26 09:07:00 UTC\n",
              "29999999    2011-11-22 18:10:44 UTC\n",
              "Name: pickup_datetime, Length: 29996242, dtype: object"
            ]
          },
          "metadata": {
            "tags": []
          },
          "execution_count": 80
        }
      ]
    },
    {
      "cell_type": "code",
      "metadata": {
        "id": "I3MfCLKakFby"
      },
      "source": [
        "df_train['pickup_datetime'] = df_train['pickup_datetime'].str.replace(\" UTC\", \"\")"
      ],
      "execution_count": 81,
      "outputs": []
    },
    {
      "cell_type": "code",
      "metadata": {
        "id": "LQlRK4zjkFVK"
      },
      "source": [
        "df_train['pickup_datetime'] = pd.to_datetime(df_train['pickup_datetime'])"
      ],
      "execution_count": 82,
      "outputs": []
    },
    {
      "cell_type": "markdown",
      "metadata": {
        "id": "523JNLH8w2j4"
      },
      "source": [
        "Usando tipos de dato eficientes para \"año\" , \"mes\" , \"dia\" , \"hora\" , para una reducción de memoria."
      ]
    },
    {
      "cell_type": "code",
      "metadata": {
        "id": "4g3e28WKkwi4"
      },
      "source": [
        "df_train['año'] = df_train.pickup_datetime.dt.year\n",
        "df_train[\"año\"] = pd.to_numeric(df_train[\"año\"], downcast=\"unsigned\")\n",
        "\n",
        "df_train['mes'] = df_train.pickup_datetime.dt.month\n",
        "df_train[\"mes\"] = pd.to_numeric(df_train[\"mes\"], downcast=\"unsigned\")"
      ],
      "execution_count": 83,
      "outputs": []
    },
    {
      "cell_type": "code",
      "metadata": {
        "id": "t1dD0GZDnhfF"
      },
      "source": [
        "df_train['dia'] = df_train.pickup_datetime.dt.day\n",
        "df_train[\"dia\"] = pd.to_numeric(df_train[\"dia\"], downcast=\"unsigned\")\n",
        "\n",
        "df_train['hora'] = df_train.pickup_datetime.dt.hour\n",
        "df_train[\"hora\"] = pd.to_numeric(df_train[\"hora\"], downcast=\"unsigned\")"
      ],
      "execution_count": 84,
      "outputs": []
    },
    {
      "cell_type": "code",
      "metadata": {
        "id": "D_76OnWClHAT"
      },
      "source": [
        "df_train = df_train.drop(columns=['pickup_datetime'])"
      ],
      "execution_count": 85,
      "outputs": []
    },
    {
      "cell_type": "code",
      "metadata": {
        "id": "xrsWsWSrpmQf",
        "colab": {
          "base_uri": "https://localhost:8080/",
          "height": 204
        },
        "outputId": "d8e8d910-4444-4ff3-e8a1-3fe7dcd15e02"
      },
      "source": [
        "df_train.head()"
      ],
      "execution_count": 86,
      "outputs": [
        {
          "output_type": "execute_result",
          "data": {
            "text/html": [
              "<div>\n",
              "<style scoped>\n",
              "    .dataframe tbody tr th:only-of-type {\n",
              "        vertical-align: middle;\n",
              "    }\n",
              "\n",
              "    .dataframe tbody tr th {\n",
              "        vertical-align: top;\n",
              "    }\n",
              "\n",
              "    .dataframe thead th {\n",
              "        text-align: right;\n",
              "    }\n",
              "</style>\n",
              "<table border=\"1\" class=\"dataframe\">\n",
              "  <thead>\n",
              "    <tr style=\"text-align: right;\">\n",
              "      <th></th>\n",
              "      <th>fare_amount</th>\n",
              "      <th>passenger_count</th>\n",
              "      <th>distancia</th>\n",
              "      <th>año</th>\n",
              "      <th>mes</th>\n",
              "      <th>dia</th>\n",
              "      <th>hora</th>\n",
              "    </tr>\n",
              "  </thead>\n",
              "  <tbody>\n",
              "    <tr>\n",
              "      <th>0</th>\n",
              "      <td>4.5</td>\n",
              "      <td>1</td>\n",
              "      <td>1.031069</td>\n",
              "      <td>2009</td>\n",
              "      <td>6</td>\n",
              "      <td>15</td>\n",
              "      <td>17</td>\n",
              "    </tr>\n",
              "    <tr>\n",
              "      <th>1</th>\n",
              "      <td>16.9</td>\n",
              "      <td>1</td>\n",
              "      <td>8.449763</td>\n",
              "      <td>2010</td>\n",
              "      <td>1</td>\n",
              "      <td>5</td>\n",
              "      <td>16</td>\n",
              "    </tr>\n",
              "    <tr>\n",
              "      <th>2</th>\n",
              "      <td>5.7</td>\n",
              "      <td>2</td>\n",
              "      <td>1.389644</td>\n",
              "      <td>2011</td>\n",
              "      <td>8</td>\n",
              "      <td>18</td>\n",
              "      <td>0</td>\n",
              "    </tr>\n",
              "    <tr>\n",
              "      <th>3</th>\n",
              "      <td>7.7</td>\n",
              "      <td>1</td>\n",
              "      <td>2.799485</td>\n",
              "      <td>2012</td>\n",
              "      <td>4</td>\n",
              "      <td>21</td>\n",
              "      <td>4</td>\n",
              "    </tr>\n",
              "    <tr>\n",
              "      <th>4</th>\n",
              "      <td>5.3</td>\n",
              "      <td>1</td>\n",
              "      <td>1.998886</td>\n",
              "      <td>2010</td>\n",
              "      <td>3</td>\n",
              "      <td>9</td>\n",
              "      <td>7</td>\n",
              "    </tr>\n",
              "  </tbody>\n",
              "</table>\n",
              "</div>"
            ],
            "text/plain": [
              "   fare_amount  passenger_count  distancia   año  mes  dia  hora\n",
              "0          4.5                1   1.031069  2009    6   15    17\n",
              "1         16.9                1   8.449763  2010    1    5    16\n",
              "2          5.7                2   1.389644  2011    8   18     0\n",
              "3          7.7                1   2.799485  2012    4   21     4\n",
              "4          5.3                1   1.998886  2010    3    9     7"
            ]
          },
          "metadata": {
            "tags": []
          },
          "execution_count": 86
        }
      ]
    },
    {
      "cell_type": "markdown",
      "metadata": {
        "id": "mM1VW7aROlfC"
      },
      "source": [
        "# Analizando Cantidad de pasajeros"
      ]
    },
    {
      "cell_type": "code",
      "metadata": {
        "id": "2g55HalFRCEG",
        "colab": {
          "base_uri": "https://localhost:8080/",
          "height": 297
        },
        "outputId": "1d9c7c58-2173-4248-dfc8-3fd9fea478fe"
      },
      "source": [
        "df_train[['passenger_count']].describe()"
      ],
      "execution_count": 87,
      "outputs": [
        {
          "output_type": "execute_result",
          "data": {
            "text/html": [
              "<div>\n",
              "<style scoped>\n",
              "    .dataframe tbody tr th:only-of-type {\n",
              "        vertical-align: middle;\n",
              "    }\n",
              "\n",
              "    .dataframe tbody tr th {\n",
              "        vertical-align: top;\n",
              "    }\n",
              "\n",
              "    .dataframe thead th {\n",
              "        text-align: right;\n",
              "    }\n",
              "</style>\n",
              "<table border=\"1\" class=\"dataframe\">\n",
              "  <thead>\n",
              "    <tr style=\"text-align: right;\">\n",
              "      <th></th>\n",
              "      <th>passenger_count</th>\n",
              "    </tr>\n",
              "  </thead>\n",
              "  <tbody>\n",
              "    <tr>\n",
              "      <th>count</th>\n",
              "      <td>2.999624e+07</td>\n",
              "    </tr>\n",
              "    <tr>\n",
              "      <th>mean</th>\n",
              "      <td>1.685491e+00</td>\n",
              "    </tr>\n",
              "    <tr>\n",
              "      <th>std</th>\n",
              "      <td>1.323680e+00</td>\n",
              "    </tr>\n",
              "    <tr>\n",
              "      <th>min</th>\n",
              "      <td>0.000000e+00</td>\n",
              "    </tr>\n",
              "    <tr>\n",
              "      <th>25%</th>\n",
              "      <td>1.000000e+00</td>\n",
              "    </tr>\n",
              "    <tr>\n",
              "      <th>50%</th>\n",
              "      <td>1.000000e+00</td>\n",
              "    </tr>\n",
              "    <tr>\n",
              "      <th>75%</th>\n",
              "      <td>2.000000e+00</td>\n",
              "    </tr>\n",
              "    <tr>\n",
              "      <th>max</th>\n",
              "      <td>2.080000e+02</td>\n",
              "    </tr>\n",
              "  </tbody>\n",
              "</table>\n",
              "</div>"
            ],
            "text/plain": [
              "       passenger_count\n",
              "count     2.999624e+07\n",
              "mean      1.685491e+00\n",
              "std       1.323680e+00\n",
              "min       0.000000e+00\n",
              "25%       1.000000e+00\n",
              "50%       1.000000e+00\n",
              "75%       2.000000e+00\n",
              "max       2.080000e+02"
            ]
          },
          "metadata": {
            "tags": []
          },
          "execution_count": 87
        }
      ]
    },
    {
      "cell_type": "markdown",
      "metadata": {
        "id": "QwZAy0zyRHhB"
      },
      "source": [
        "Eliminamos la data que contenga cantidad de pasajeros mayor o igual a 6"
      ]
    },
    {
      "cell_type": "code",
      "metadata": {
        "id": "eT07hWa1qwOL"
      },
      "source": [
        "df_train = df_train[0 < df_train['passenger_count']]"
      ],
      "execution_count": 88,
      "outputs": []
    },
    {
      "cell_type": "code",
      "metadata": {
        "id": "Arg47-Ekyu0j"
      },
      "source": [
        "df_train = df_train[df_train['passenger_count'] < 6]"
      ],
      "execution_count": 89,
      "outputs": []
    },
    {
      "cell_type": "code",
      "metadata": {
        "colab": {
          "base_uri": "https://localhost:8080/",
          "height": 297
        },
        "id": "JIh2Wq77osTD",
        "outputId": "858cc095-b32e-47cc-b367-d3a90a147488"
      },
      "source": [
        "df_train[['passenger_count']].describe()"
      ],
      "execution_count": 90,
      "outputs": [
        {
          "output_type": "execute_result",
          "data": {
            "text/html": [
              "<div>\n",
              "<style scoped>\n",
              "    .dataframe tbody tr th:only-of-type {\n",
              "        vertical-align: middle;\n",
              "    }\n",
              "\n",
              "    .dataframe tbody tr th {\n",
              "        vertical-align: top;\n",
              "    }\n",
              "\n",
              "    .dataframe thead th {\n",
              "        text-align: right;\n",
              "    }\n",
              "</style>\n",
              "<table border=\"1\" class=\"dataframe\">\n",
              "  <thead>\n",
              "    <tr style=\"text-align: right;\">\n",
              "      <th></th>\n",
              "      <th>passenger_count</th>\n",
              "    </tr>\n",
              "  </thead>\n",
              "  <tbody>\n",
              "    <tr>\n",
              "      <th>count</th>\n",
              "      <td>2.925475e+07</td>\n",
              "    </tr>\n",
              "    <tr>\n",
              "      <th>mean</th>\n",
              "      <td>1.597654e+00</td>\n",
              "    </tr>\n",
              "    <tr>\n",
              "      <th>std</th>\n",
              "      <td>1.155052e+00</td>\n",
              "    </tr>\n",
              "    <tr>\n",
              "      <th>min</th>\n",
              "      <td>1.000000e+00</td>\n",
              "    </tr>\n",
              "    <tr>\n",
              "      <th>25%</th>\n",
              "      <td>1.000000e+00</td>\n",
              "    </tr>\n",
              "    <tr>\n",
              "      <th>50%</th>\n",
              "      <td>1.000000e+00</td>\n",
              "    </tr>\n",
              "    <tr>\n",
              "      <th>75%</th>\n",
              "      <td>2.000000e+00</td>\n",
              "    </tr>\n",
              "    <tr>\n",
              "      <th>max</th>\n",
              "      <td>5.000000e+00</td>\n",
              "    </tr>\n",
              "  </tbody>\n",
              "</table>\n",
              "</div>"
            ],
            "text/plain": [
              "       passenger_count\n",
              "count     2.925475e+07\n",
              "mean      1.597654e+00\n",
              "std       1.155052e+00\n",
              "min       1.000000e+00\n",
              "25%       1.000000e+00\n",
              "50%       1.000000e+00\n",
              "75%       2.000000e+00\n",
              "max       5.000000e+00"
            ]
          },
          "metadata": {
            "tags": []
          },
          "execution_count": 90
        }
      ]
    },
    {
      "cell_type": "markdown",
      "metadata": {
        "id": "qJm5XKKZxV-h"
      },
      "source": [
        "**Uso total de la memoria al final**"
      ]
    },
    {
      "cell_type": "code",
      "metadata": {
        "colab": {
          "base_uri": "https://localhost:8080/"
        },
        "id": "VO3t4QGOjka8",
        "outputId": "1a6b9964-14e4-404b-c47d-888b2a1c6bed"
      },
      "source": [
        "memoria_final2 = df_train.memory_usage(deep=True).sum()\n",
        "print(f\"{memoria_final2/1e9:0.2f}GB\")"
      ],
      "execution_count": 91,
      "outputs": [
        {
          "output_type": "stream",
          "text": [
            "0.64GB\n"
          ],
          "name": "stdout"
        }
      ]
    },
    {
      "cell_type": "markdown",
      "metadata": {
        "id": "GVqfp6umloE2"
      },
      "source": [
        "# Entrenamieto"
      ]
    },
    {
      "cell_type": "code",
      "metadata": {
        "id": "gA2zN2dvlkmo",
        "colab": {
          "base_uri": "https://localhost:8080/"
        },
        "outputId": "26bc7385-7483-4f12-b049-0a719f8b35b2"
      },
      "source": [
        "from sklearn.ensemble import RandomForestRegressor\n",
        "from sklearn.model_selection import train_test_split\n",
        "\n",
        "predictors = ['passenger_count', 'distancia', 'año', 'mes', 'dia', 'hora']\n",
        "salida = 'fare_amount'\n",
        "\n",
        "X = df_train[predictors]\n",
        "y = df_train[salida]\n",
        "\n",
        "X_train, X_test, y_train, y_test = train_test_split(X,y, test_size=0.3, random_state=22)\n",
        "\n",
        "rf = RandomForestRegressor(n_estimators=500,\n",
        "                            oob_score = True,\n",
        "                            random_state=1,\n",
        "                            max_depth=8)\n",
        "rf.fit(X_train, y_train)"
      ],
      "execution_count": 57,
      "outputs": [
        {
          "output_type": "execute_result",
          "data": {
            "text/plain": [
              "RandomForestRegressor(bootstrap=True, ccp_alpha=0.0, criterion='mse',\n",
              "                      max_depth=8, max_features='auto', max_leaf_nodes=None,\n",
              "                      max_samples=None, min_impurity_decrease=0.0,\n",
              "                      min_impurity_split=None, min_samples_leaf=1,\n",
              "                      min_samples_split=2, min_weight_fraction_leaf=0.0,\n",
              "                      n_estimators=500, n_jobs=None, oob_score=True,\n",
              "                      random_state=1, verbose=0, warm_start=False)"
            ]
          },
          "metadata": {
            "tags": []
          },
          "execution_count": 57
        }
      ]
    },
    {
      "cell_type": "code",
      "metadata": {
        "id": "DOrBdo7NcWq1",
        "colab": {
          "base_uri": "https://localhost:8080/"
        },
        "outputId": "157e095f-2be8-4daa-d9ce-23c4fb1f4554"
      },
      "source": [
        "from joblib import dump, load\n",
        "dump(rf, 'Modelo.joblib')"
      ],
      "execution_count": 58,
      "outputs": [
        {
          "output_type": "execute_result",
          "data": {
            "text/plain": [
              "['Modelo.joblib']"
            ]
          },
          "metadata": {
            "tags": []
          },
          "execution_count": 58
        }
      ]
    },
    {
      "cell_type": "code",
      "metadata": {
        "id": "HzziXGuSxoLS"
      },
      "source": [
        "clf = load('/content/drive/MyDrive/Modelo.joblib')\n",
        "from sklearn.metrics import mean_squared_error\n",
        "\n",
        "y_pred_train = clf.predict(X_train)\n",
        "y_pred_test = clf.predict(X_test)\n",
        "\n",
        "print(\"Conjunto de entrenamiento\")\n",
        "print(mean_squared_error(y_train, y_pred_train))\n",
        "print(\"Conjunto de pruebas\")\n",
        "print(mean_squared_error(y_test, y_pred_test))"
      ],
      "execution_count": null,
      "outputs": []
    }
  ]
}