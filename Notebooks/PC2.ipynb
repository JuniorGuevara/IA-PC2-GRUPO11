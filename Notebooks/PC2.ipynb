{
  "nbformat": 4,
  "nbformat_minor": 0,
  "metadata": {
    "colab": {
      "name": "PC2.ipynb",
      "provenance": [],
      "collapsed_sections": [],
      "toc_visible": true
    },
    "kernelspec": {
      "name": "python3",
      "display_name": "Python 3"
    },
    "language_info": {
      "name": "python"
    }
  },
  "cells": [
    {
      "cell_type": "markdown",
      "metadata": {
        "id": "7Yeo7Hk3081S"
      },
      "source": [
        "# Práctica Calificada 2\n",
        "## Predicción de tarifas de taxis\n",
        "El objetivo de esta evaluación es construir un modelo de aprendizaje que sea capaz de predecir la tarifa que cobra un taxi de acuerdo a cierta información de entrada.\n"
      ]
    },
    {
      "cell_type": "code",
      "metadata": {
        "id": "mvQ16Ps7DuVw"
      },
      "source": [
        "import pandas as pd\n",
        "import numpy as np\n",
        "print(\"Pandas = \", pd.__version__)\n",
        "print(\"Numpy = \", np.__version__)"
      ],
      "execution_count": null,
      "outputs": []
    },
    {
      "cell_type": "markdown",
      "metadata": {
        "id": "rvC1iSvx1n3u"
      },
      "source": [
        "# Obteniendo del conjunto de datos"
      ]
    },
    {
      "cell_type": "code",
      "metadata": {
        "id": "LfuD0PVhAhDN"
      },
      "source": [
        "pd.read_csv(\"./train.csv\",nrows=5).head()"
      ],
      "execution_count": null,
      "outputs": []
    },
    {
      "cell_type": "markdown",
      "metadata": {
        "id": "S9AFyfAX13Hx"
      },
      "source": [
        "Tenemos las siguientes columnas\n",
        "\n",
        "*   key: cadena que identifica de manera única a cada registro.\n",
        "*   fare_amount: número real indicando el costo del taxi. Esta es la variable a predecir.\n",
        "*   pickup_datetime: timestamp indicando cuando el viaje a empezado.\n",
        "*   pickup_longitude: número real indicando la ubicación en longitud en donde el viaje empezó.\n",
        "*   pickup_latitude: número real indicando la ubicación en latitud en donde el viaje empezó.\n",
        "*   dropoff_longitude: número real indicando la ubicación en longitud en donde el viaje terminó.\n",
        "*   dropoff_latitude: número real indicando la ubicación en latitud en donde el viaje terminó.\n",
        "*   passenger_count: número entero indicando el número de pasajeros en el servicio de taxi.\n",
        "\n",
        "*La columna key no es un caracterísitica que nos interese.*"
      ]
    },
    {
      "cell_type": "markdown",
      "metadata": {
        "id": "tS1410_8BJF1"
      },
      "source": [
        "**Cargamos solo las columnas que nos interesan**"
      ]
    },
    {
      "cell_type": "code",
      "metadata": {
        "id": "tnEAUGRCBNcB"
      },
      "source": [
        "columns = [\"fare_amount\",\"pickup_datetime\",\"pickup_longitude\",\"pickup_latitude\",\"dropoff_longitude\",\"dropoff_latitude\",\"passenger_count\"]"
      ],
      "execution_count": 7,
      "outputs": []
    },
    {
      "cell_type": "code",
      "metadata": {
        "id": "j4evtdBuBQiH"
      },
      "source": [
        "df_train = pd.read_csv(\"./train.csv\",nrows=50000000,usecols=columns)"
      ],
      "execution_count": 8,
      "outputs": []
    },
    {
      "cell_type": "markdown",
      "metadata": {
        "id": "0MOA86i_BUk9"
      },
      "source": [
        "**Uso total de la memoria al inicio**"
      ]
    },
    {
      "cell_type": "code",
      "metadata": {
        "id": "NjQXgOkxBXeh"
      },
      "source": [
        "memoria_inicial = df_train.memory_usage(deep=True).sum()\n",
        "print(f\"{memoria_inicial/1e9:0.2f}GB\")"
      ],
      "execution_count": null,
      "outputs": []
    },
    {
      "cell_type": "markdown",
      "metadata": {
        "id": "v9IBA0P4BcLA"
      },
      "source": [
        "**Analizando el tipo de las variables**"
      ]
    },
    {
      "cell_type": "code",
      "metadata": {
        "id": "yidgdS36Beq5"
      },
      "source": [
        "df_train.dtypes"
      ],
      "execution_count": null,
      "outputs": []
    },
    {
      "cell_type": "markdown",
      "metadata": {
        "id": "et_m-4h9BlXj"
      },
      "source": [
        "Uso de memoria de cada columna en bytes."
      ]
    },
    {
      "cell_type": "code",
      "metadata": {
        "id": "cee7tH8rBodE"
      },
      "source": [
        "df_train.memory_usage(deep=True)"
      ],
      "execution_count": null,
      "outputs": []
    },
    {
      "cell_type": "markdown",
      "metadata": {
        "id": "M0AKhArcBq0k"
      },
      "source": [
        "**Utilizando tipos de datos eficientes.**"
      ]
    },
    {
      "cell_type": "code",
      "metadata": {
        "id": "EfXpvOPYBv2j"
      },
      "source": [
        "df_train[\"passenger_count\"] = pd.to_numeric(df_train[\"passenger_count\"], downcast=\"unsigned\")\n",
        "df_train[\"fare_amount\"] =  pd.to_numeric(df_train[\"fare_amount\"], downcast=\"float\")\n",
        "df_train[[\"pickup_longitude\",\"pickup_latitude\"]] = df_train[[\"pickup_longitude\",\"pickup_latitude\"]].apply(pd.to_numeric, downcast=\"float\")\n",
        "df_train[[\"dropoff_longitude\",\"dropoff_latitude\"]] = df_train[[\"dropoff_longitude\",\"dropoff_latitude\"]].apply(pd.to_numeric, downcast=\"float\")"
      ],
      "execution_count": 13,
      "outputs": []
    },
    {
      "cell_type": "code",
      "metadata": {
        "id": "kDP-mObVBzvy"
      },
      "source": [
        "df_train.dtypes"
      ],
      "execution_count": null,
      "outputs": []
    },
    {
      "cell_type": "markdown",
      "metadata": {
        "id": "ewbD0ZBtB2pd"
      },
      "source": [
        "Uso de memoria de cada columna en bytes luego de utilizar tipos de datos más eficientes."
      ]
    },
    {
      "cell_type": "code",
      "metadata": {
        "id": "OTc0PnPDB5fI"
      },
      "source": [
        "df_train.memory_usage(deep=True)"
      ],
      "execution_count": null,
      "outputs": []
    },
    {
      "cell_type": "markdown",
      "metadata": {
        "id": "-VJBP0ggCdMF"
      },
      "source": [
        "Uso de memoria total luego de utilizar tipos de datos más eficientes."
      ]
    },
    {
      "cell_type": "code",
      "metadata": {
        "id": "wCX6J7RvChJx"
      },
      "source": [
        "memoria_final = df_train.memory_usage(deep=True).sum()\n",
        "print(f\"{memoria_final/1e9:0.2f}GB\")"
      ],
      "execution_count": null,
      "outputs": []
    },
    {
      "cell_type": "markdown",
      "metadata": {
        "id": "udxfNcMKClwu"
      },
      "source": [
        "**Reducción de Memoria**"
      ]
    },
    {
      "cell_type": "code",
      "metadata": {
        "id": "mzO9uM7ACn5X"
      },
      "source": [
        "reduccion = (memoria_inicial-memoria_final)/memoria_inicial*100\n",
        "print(f\"Reducimos el uso de memoria en {reduccion:0.2f}%\")"
      ],
      "execution_count": null,
      "outputs": []
    },
    {
      "cell_type": "code",
      "metadata": {
        "id": "eZ0F4r5THY0H"
      },
      "source": [
        "df_train.describe()"
      ],
      "execution_count": null,
      "outputs": []
    },
    {
      "cell_type": "code",
      "metadata": {
        "id": "sFus-uCHFgYa"
      },
      "source": [
        "df_train.info(verbose=True, null_counts=True)"
      ],
      "execution_count": null,
      "outputs": []
    },
    {
      "cell_type": "markdown",
      "metadata": {
        "id": "g7gvXTMSCdRM"
      },
      "source": [
        "De lo anterior se puede observar que tenemos valores nulos, entonces verificamos cuando valores nulos hay por cada columna:"
      ]
    },
    {
      "cell_type": "code",
      "metadata": {
        "id": "6YL3J8BeBPyU"
      },
      "source": [
        "print(df_train.isnull().sum())"
      ],
      "execution_count": null,
      "outputs": []
    },
    {
      "cell_type": "code",
      "metadata": {
        "id": "_CQ2ReKLp5bo"
      },
      "source": [
        "# Eliminando\n",
        "df_train = df_train.dropna(how='any', axis=0)"
      ],
      "execution_count": 22,
      "outputs": []
    },
    {
      "cell_type": "markdown",
      "metadata": {
        "id": "CNaNj0t15SuD"
      },
      "source": [
        "# Analizando Fare_amount"
      ]
    },
    {
      "cell_type": "code",
      "metadata": {
        "id": "27JgLucrEyge"
      },
      "source": [
        "df_train[['fare_amount']].describe()"
      ],
      "execution_count": null,
      "outputs": []
    },
    {
      "cell_type": "markdown",
      "metadata": {
        "id": "mKmvrd8SzT9B"
      },
      "source": [
        "Obervamos que el el minimo del monto de tarifa es negativo, veamos cuantos montos de tarifa menores o iguales a cero, tenemos: "
      ]
    },
    {
      "cell_type": "code",
      "metadata": {
        "id": "qnQebgfc1zA6"
      },
      "source": [
        "len(df_train[df_train['fare_amount'] <= 0].index)"
      ],
      "execution_count": null,
      "outputs": []
    },
    {
      "cell_type": "code",
      "metadata": {
        "id": "VrSBkJwH1RYx"
      },
      "source": [
        "df_train[df_train['fare_amount'] <= 0]"
      ],
      "execution_count": null,
      "outputs": []
    },
    {
      "cell_type": "markdown",
      "metadata": {
        "id": "GZXnL83oziiN"
      },
      "source": [
        "Solo queremos los datos donde el monto de la tarifa sea mayor que cero:\n"
      ]
    },
    {
      "cell_type": "code",
      "metadata": {
        "id": "LYHMHsBg3yq4"
      },
      "source": [
        "df_train = df_train[df_train['fare_amount'] > 0]"
      ],
      "execution_count": 26,
      "outputs": []
    },
    {
      "cell_type": "code",
      "metadata": {
        "id": "Df5vBEcdBU7z"
      },
      "source": [
        "df_train[['fare_amount']].describe()"
      ],
      "execution_count": null,
      "outputs": []
    },
    {
      "cell_type": "markdown",
      "metadata": {
        "id": "Dly9f5YHF68s"
      },
      "source": [
        "# Analizando la longitud y latidud"
      ]
    },
    {
      "cell_type": "markdown",
      "metadata": {
        "id": "kyI1jWkMJbuR"
      },
      "source": [
        "El rango de la latidud es de -90 hasta 90 grados, mientras que el grado de la longitud es de -180 hasta los 180 grados.\n",
        "\n"
      ]
    },
    {
      "cell_type": "code",
      "metadata": {
        "id": "7_EBIOGpL6cw"
      },
      "source": [
        "df_train = df_train[(df_train['pickup_longitude'] >= -180) & (df_train['pickup_longitude'] <= 180)]"
      ],
      "execution_count": 28,
      "outputs": []
    },
    {
      "cell_type": "code",
      "metadata": {
        "id": "-_8LgdvsY7NY"
      },
      "source": [
        "df_train = df_train[(df_train['pickup_latitude'] >= -90) & (df_train['pickup_latitude'] <= 90)]"
      ],
      "execution_count": 29,
      "outputs": []
    },
    {
      "cell_type": "code",
      "metadata": {
        "id": "4qh_EPilc494"
      },
      "source": [
        "df_train = df_train[(df_train['dropoff_longitude'] >= -180) & (df_train['dropoff_longitude'] <= 180)]"
      ],
      "execution_count": 30,
      "outputs": []
    },
    {
      "cell_type": "code",
      "metadata": {
        "id": "0kj2FK4ic4zY"
      },
      "source": [
        "df_train = df_train[(df_train['dropoff_latitude'] >= -90) & (df_train['dropoff_latitude'] <= 90)]"
      ],
      "execution_count": 31,
      "outputs": []
    },
    {
      "cell_type": "code",
      "metadata": {
        "id": "kJn8a-nahu9y"
      },
      "source": [
        "def distancia(df):\n",
        "  # Radio medio de la tierra en Km\n",
        "  R = 6371.0\n",
        "  # Conversion a radianes\n",
        "  lt1 = np.radians(df.pickup_latitude)\n",
        "  lg1 = np.radians(df.pickup_longitude)\n",
        "  lt2 = np.radians(df.dropoff_latitude)\n",
        "  lg2 = np.radians(df.dropoff_longitude)\n",
        "  # Defirencia entre latitudes y longitudes\n",
        "  dlt = lt2 - lt1\n",
        "  dlg = lg2 - lg1\n",
        "  # Haversine\n",
        "  hav = np.sin(dlt / 2)**2 + np.cos(lt1) * np.cos(lt2) * np.sin(dlg / 2)**2\n",
        "  c = 2 * np.arctan2(np.sqrt(hav), np.sqrt(1-hav))\n",
        "  d = R * c\n",
        "  return d"
      ],
      "execution_count": 32,
      "outputs": []
    },
    {
      "cell_type": "code",
      "metadata": {
        "id": "UUFay-Jz70dx"
      },
      "source": [
        "df_train['distancia'] = distancia(df_train)"
      ],
      "execution_count": 33,
      "outputs": []
    },
    {
      "cell_type": "code",
      "metadata": {
        "id": "dwF156w6TIC2"
      },
      "source": [
        "df_train = df_train.drop(columns=['pickup_longitude', 'pickup_latitude', 'dropoff_longitude', 'dropoff_latitude'])"
      ],
      "execution_count": 34,
      "outputs": []
    },
    {
      "cell_type": "markdown",
      "metadata": {
        "id": "U5QRLTxYQDUv"
      },
      "source": [
        "Limpiando data para distancia igual a cero kilometros o demasiado extensas"
      ]
    },
    {
      "cell_type": "code",
      "metadata": {
        "id": "y9l-XI3JQI8d"
      },
      "source": [
        "df_train[['distancia']].describe()"
      ],
      "execution_count": null,
      "outputs": []
    },
    {
      "cell_type": "code",
      "metadata": {
        "id": "cXal02nMT2h4"
      },
      "source": [
        "df_train['distancia'] = df_train[(0 < df_train['distancia']) & (df_train['distancia'] < 70)]\n",
        "df_train[['distancia']].describe()"
      ],
      "execution_count": null,
      "outputs": []
    },
    {
      "cell_type": "markdown",
      "metadata": {
        "id": "PAdl9g90WRCZ"
      },
      "source": [
        "# Analizando pickup_datetime"
      ]
    },
    {
      "cell_type": "code",
      "metadata": {
        "id": "Y2MsKpNIWmL7"
      },
      "source": [
        "df_train['pickup_datetime']"
      ],
      "execution_count": null,
      "outputs": []
    },
    {
      "cell_type": "code",
      "metadata": {
        "id": "I3MfCLKakFby"
      },
      "source": [
        "df_train['pickup_datetime'] = df_train['pickup_datetime'].str.replace(\" UTC\", \"\")"
      ],
      "execution_count": null,
      "outputs": []
    },
    {
      "cell_type": "code",
      "metadata": {
        "id": "LQlRK4zjkFVK"
      },
      "source": [
        "df_train['pickup_datetime'] = pd.to_datetime(df_train['pickup_datetime'])"
      ],
      "execution_count": null,
      "outputs": []
    },
    {
      "cell_type": "code",
      "metadata": {
        "id": "4g3e28WKkwi4"
      },
      "source": [
        "df_train['año'] = df_train.pickup_datetime.dt.year\n",
        "df_train['mes'] = df_train.pickup_datetime.dt.month\n",
        "df_train['dia'] = df_train.pickup_datetime.dt.day\n",
        "df_train['hora'] = df_train.pickup_datetime.dt.hour"
      ],
      "execution_count": null,
      "outputs": []
    },
    {
      "cell_type": "code",
      "metadata": {
        "id": "D_76OnWClHAT"
      },
      "source": [
        "df_train = df_train.drop(columns=['pickup_datetime'])"
      ],
      "execution_count": null,
      "outputs": []
    },
    {
      "cell_type": "code",
      "metadata": {
        "id": "xrsWsWSrpmQf"
      },
      "source": [
        "df_train.head()"
      ],
      "execution_count": null,
      "outputs": []
    },
    {
      "cell_type": "markdown",
      "metadata": {
        "id": "mM1VW7aROlfC"
      },
      "source": [
        "# Analizando Cantidad de pasajeros"
      ]
    },
    {
      "cell_type": "code",
      "metadata": {
        "id": "2g55HalFRCEG"
      },
      "source": [
        "df_train[['passenger_count']].describe()"
      ],
      "execution_count": null,
      "outputs": []
    },
    {
      "cell_type": "markdown",
      "metadata": {
        "id": "QwZAy0zyRHhB"
      },
      "source": [
        "Eliminamos la data que contenga cantidad de pasajeros mayor o igual a 6"
      ]
    },
    {
      "cell_type": "code",
      "metadata": {
        "id": "eT07hWa1qwOL"
      },
      "source": [
        "df_train['passenger_count'] = df_train[(0 < df_train['passenger_count']) & (df_train['passenger_count'] < 6)]\n",
        "df_train[['passenger_count']].describe()"
      ],
      "execution_count": null,
      "outputs": []
    },
    {
      "cell_type": "markdown",
      "metadata": {
        "id": "GVqfp6umloE2"
      },
      "source": [
        "# Entrenamieto"
      ]
    },
    {
      "cell_type": "code",
      "metadata": {
        "id": "gA2zN2dvlkmo"
      },
      "source": [
        "from sklearn.ensemble import RandomForestRegressor\n",
        "from sklearn.model_selection import train_test_split\n",
        "\n",
        "predictors = ['passenger_count', 'distancia', 'año', 'mes', 'dia', 'hora']\n",
        "salida = 'fare_amount'\n",
        "\n",
        "X = df_train[predictors]\n",
        "y = df_train[salida]\n",
        "\n",
        "X_train, X_test, y_train, y_test = train_test_split(X,y, test_size=0.3, random_state=22)\n",
        "\n",
        "rf = RandomForestRegressor(n_estimators=500,\n",
        "                            oob_score = True,\n",
        "                            random_state=1,\n",
        "                            max_depth=8)\n",
        "rf.fit(X_train, y_train)"
      ],
      "execution_count": null,
      "outputs": []
    },
    {
      "cell_type": "code",
      "metadata": {
        "id": "DOrBdo7NcWq1"
      },
      "source": [
        "from joblib import dump, load\n",
        "dump(rf, 'Modelo.joblib')"
      ],
      "execution_count": null,
      "outputs": []
    }
  ]
}